{
 "cells": [
  {
   "cell_type": "markdown",
   "id": "a5f764dc-a2ee-4923-a4a2-9448f6979689",
   "metadata": {},
   "source": [
    "## Рабочая тетрадь №2 Меджидов Магомедпаша Султанович БФБО-01-22 \n",
    "\n",
    "Курс № 1\n",
    "Семестр № 2"
   ]
  },
  {
   "cell_type": "markdown",
   "id": "e0195cee",
   "metadata": {},
   "source": [
    "# Задание №1\n",
    "    Создайте класс по работе с тригонометрическими функциями. В классе\n",
    "    должны быть реализованы функции вычисления:\n",
    "\n",
    "    − косинуса;\n",
    "    − синуса;\n",
    "    − тангенса;\n",
    "    − арксинуса;\n",
    "    − арккосинуса;\n",
    "    − арктангенса;\n",
    "    − перевода из градусов в радианы."
   ]
  },
  {
   "cell_type": "code",
   "execution_count": 2,
   "id": "ba8c388b",
   "metadata": {
    "tags": []
   },
   "outputs": [
    {
     "name": "stdout",
     "output_type": "stream",
     "text": [
      "0.05483113556160755\n",
      "0.5403023058681398 \n",
      " 0.8414709848078965 \n",
      " 1.5574077246549023 \n",
      " 0.0 \n",
      " 1.5707963267948966 \n",
      " 0.7853981633974483 \n",
      " 0.05483113556160755 \n",
      "\n"
     ]
    }
   ],
   "source": [
    "import math \n",
    "\n",
    "\n",
    "class mata:\n",
    "\n",
    "    @staticmethod\n",
    "    def cos1(n):\n",
    "        return math.cos(n)\n",
    "\n",
    "    @staticmethod\n",
    "    def sin1(s):\n",
    "        return math.sin(s)\n",
    "\n",
    "    @staticmethod\n",
    "    def tan1(t):\n",
    "        return math.tan(t)\n",
    "\n",
    "    @staticmethod\n",
    "    def arccos(cc):\n",
    "        return math.acos(cc)\n",
    "\n",
    "    @staticmethod\n",
    "    def arcsin(cs):\n",
    "        return math.asin(cs)\n",
    "\n",
    "    @staticmethod\n",
    "    def arctan(ct):\n",
    "        return math.atan(ct)\n",
    "\n",
    "    @staticmethod\n",
    "    def grad(g):\n",
    "        return math.radians(g)\n",
    "\n",
    "\n",
    "res1 = mata.cos1(1)\n",
    "res2 = mata.sin1(1)\n",
    "res3 = mata.tan1(1)\n",
    "res4 = mata.arccos(1)\n",
    "res5 = mata.arcsin(1)\n",
    "res6 = mata.arctan(1)\n",
    "res7 = mata.grad(math.pi)\n",
    "res8 = math.radians(math.pi)\n",
    "print(res8)\n",
    "\n",
    "print(res1, \"\\n\", res2, \"\\n\", res3, \"\\n\", res4, \"\\n\", res5, \"\\n\", res6, \"\\n\", res7, \"\\n\", )"
   ]
  },
  {
   "cell_type": "markdown",
   "id": "d4d6b0cb",
   "metadata": {},
   "source": [
    "# Задание №2\n"
   ]
  },
  {
   "attachments": {
    "image.png": {
     "image/png": "[encoded data removed]"
    }
   },
   "cell_type": "markdown",
   "id": "1ae4c205",
   "metadata": {},
   "source": [
    "# ![image.png](attachment:image.png)"
   ]
  },
  {
   "cell_type": "code",
   "execution_count": 3,
   "id": "1791b007",
   "metadata": {},
   "outputs": [
    {
     "name": "stdout",
     "output_type": "stream",
     "text": [
      "a\n",
      "['b', ['d', 'e']]\n",
      "['c', ['f']]\n"
     ]
    }
   ],
   "source": [
    "tree = [\"a\",[[\"b\",[\"d\",\"e\"]],[\"c\",[\"f\"]]]]\n",
    "print(tree[0])\n",
    "print(tree[1][0])\n",
    "print(tree[1][1])"
   ]
  },
  {
   "cell_type": "markdown",
   "id": "4672c989",
   "metadata": {},
   "source": [
    "# Задание №3"
   ]
  },
  {
   "cell_type": "code",
   "execution_count": 2,
   "id": "ebcffefb",
   "metadata": {},
   "outputs": [
    {
     "name": "stdout",
     "output_type": "stream",
     "text": [
      "1\n",
      "3\n",
      "6\n",
      "10\n",
      "14\n"
     ]
    }
   ],
   "source": [
    "class Tree:\n",
    "    def __init__(self, data):\n",
    "        self.left = None\n",
    "        self.right = None\n",
    "        self.data = data\n",
    "    \n",
    "    def PrintTree(self):\n",
    "        if self.left:\n",
    "            self.left.PrintTree()\n",
    "        print(self.data)\n",
    "        if self.right:\n",
    "            self.right.PrintTree()\n",
    "\n",
    "    def insert(self, value):\n",
    "        self.value = value\n",
    "        if value < self.data:\n",
    "            if self.left:\n",
    "                self.left.insert(value)\n",
    "            else:\n",
    "                self.left = Tree(value)\n",
    "        elif value > self.data:\n",
    "            if self.right:\n",
    "                self.right.insert(value)\n",
    "            else:\n",
    "                self.right = Tree(value)\n",
    "\n",
    "center = Tree(10)\n",
    "center.insert(1)\n",
    "center.insert(6)\n",
    "center.insert(14)\n",
    "center.insert(3)\n",
    "center.PrintTree()"
   ]
  },
  {
   "cell_type": "markdown",
   "id": "e6c306d1",
   "metadata": {},
   "source": [
    "# Задание №4"
   ]
  },
  {
   "cell_type": "code",
   "execution_count": 5,
   "id": "d579209d",
   "metadata": {},
   "outputs": [],
   "source": [
    "import pandas as pd\n",
    "import numpy as np\n",
    "from sklearn.tree import DecisionTreeClassifier,DecisionTreeRegressor\n",
    "from sklearn.model_selection import train_test_split\n",
    "from sklearn.tree import plot_tree"
   ]
  },
  {
   "cell_type": "code",
   "execution_count": 6,
   "id": "ef6ba7c0",
   "metadata": {},
   "outputs": [],
   "source": [
    "x = np. array([[-1, -1], [-2, -1], [-3, -2], [1, 1], [2, 1], [3, 2]])\n",
    "target = [0, 0, 0, 1, 1, 1]"
   ]
  },
  {
   "cell_type": "code",
   "execution_count": 7,
   "id": "0f14e1a5",
   "metadata": {},
   "outputs": [
    {
     "data": {
      "text/plain": [
       "DecisionTreeClassifier()"
      ]
     },
     "execution_count": 7,
     "metadata": {},
     "output_type": "execute_result"
    }
   ],
   "source": [
    "model = DecisionTreeClassifier()\n",
    "model.fit(x,target)"
   ]
  },
  {
   "cell_type": "code",
   "execution_count": 8,
   "id": "1b0baee1",
   "metadata": {},
   "outputs": [
    {
     "data": {
      "text/plain": [
       "[Text(0.5, 0.75, 'X[1] <= 0.0\\ngini = 0.5\\nsamples = 6\\nvalue = [3, 3]'),\n",
       " Text(0.25, 0.25, 'gini = 0.0\\nsamples = 3\\nvalue = [3, 0]'),\n",
       " Text(0.75, 0.25, 'gini = 0.0\\nsamples = 3\\nvalue = [0, 3]')]"
      ]
     },
     "execution_count": 8,
     "metadata": {},
     "output_type": "execute_result"
    },
    {
     "data": {
      "image/png": "[encoded data removed]",
      "text/plain": [
       "<Figure size 640x480 with 1 Axes>"
      ]
     },
     "metadata": {},
     "output_type": "display_data"
    }
   ],
   "source": [
    "plot_tree(model)\n"
   ]
  },
  {
   "cell_type": "code",
   "execution_count": 9,
   "id": "09880568",
   "metadata": {},
   "outputs": [
    {
     "name": "stdout",
     "output_type": "stream",
     "text": [
      "[[-3, -1], [0, 3], [-2, -1], [-2, 1], [-3, 1], [-3, 1], [0, 2], [2, 1], [3, 2], [-1, -1]]\n"
     ]
    }
   ],
   "source": [
    "from random import randint\n",
    "a = [[] * i for i in range(10)]\n",
    "for i in range(10):\n",
    "    a[i].append(randint(-3,3))\n",
    "    a[i].append(randint(-3, 3))\n",
    "print(a)"
   ]
  },
  {
   "cell_type": "code",
   "execution_count": 10,
   "id": "9c418947",
   "metadata": {},
   "outputs": [
    {
     "data": {
      "text/plain": [
       "array([0, 1, 0, 1, 1, 1, 1, 1, 1, 0])"
      ]
     },
     "execution_count": 10,
     "metadata": {},
     "output_type": "execute_result"
    }
   ],
   "source": [
    "model.predict(a)"
   ]
  },
  {
   "cell_type": "markdown",
   "id": "fc3c8399",
   "metadata": {},
   "source": [
    "# Задание №5\n"
   ]
  },
  {
   "cell_type": "code",
   "execution_count": 11,
   "id": "ac3bc056",
   "metadata": {},
   "outputs": [],
   "source": [
    "url = \"https://raw.githubusercontent.com/likarajo/petrol_consumption/master/data/petrol_consumption.csv\"\n",
    "df = pd.read_csv(url)"
   ]
  },
  {
   "cell_type": "code",
   "execution_count": 12,
   "id": "cd4b110e",
   "metadata": {
    "scrolled": true
   },
   "outputs": [
    {
     "data": {
      "text/html": [
       "<div>\n",
       "<style scoped>\n",
       "    .dataframe tbody tr th:only-of-type {\n",
       "        vertical-align: middle;\n",
       "    }\n",
       "\n",
       "    .dataframe tbody tr th {\n",
       "        vertical-align: top;\n",
       "    }\n",
       "\n",
       "    .dataframe thead th {\n",
       "        text-align: right;\n",
       "    }\n",
       "</style>\n",
       "<table border=\"1\" class=\"dataframe\">\n",
       "  <thead>\n",
       "    <tr style=\"text-align: right;\">\n",
       "      <th></th>\n",
       "      <th>Petrol_tax</th>\n",
       "      <th>Average_income</th>\n",
       "      <th>Paved_Highways</th>\n",
       "      <th>Population_Driver_licence(%)</th>\n",
       "      <th>Petrol_Consumption</th>\n",
       "    </tr>\n",
       "  </thead>\n",
       "  <tbody>\n",
       "    <tr>\n",
       "      <th>0</th>\n",
       "      <td>9.0</td>\n",
       "      <td>3571</td>\n",
       "      <td>1976</td>\n",
       "      <td>0.525</td>\n",
       "      <td>541</td>\n",
       "    </tr>\n",
       "    <tr>\n",
       "      <th>1</th>\n",
       "      <td>9.0</td>\n",
       "      <td>4092</td>\n",
       "      <td>1250</td>\n",
       "      <td>0.572</td>\n",
       "      <td>524</td>\n",
       "    </tr>\n",
       "    <tr>\n",
       "      <th>2</th>\n",
       "      <td>9.0</td>\n",
       "      <td>3865</td>\n",
       "      <td>1586</td>\n",
       "      <td>0.580</td>\n",
       "      <td>561</td>\n",
       "    </tr>\n",
       "    <tr>\n",
       "      <th>3</th>\n",
       "      <td>7.5</td>\n",
       "      <td>4870</td>\n",
       "      <td>2351</td>\n",
       "      <td>0.529</td>\n",
       "      <td>414</td>\n",
       "    </tr>\n",
       "    <tr>\n",
       "      <th>4</th>\n",
       "      <td>8.0</td>\n",
       "      <td>4399</td>\n",
       "      <td>431</td>\n",
       "      <td>0.544</td>\n",
       "      <td>410</td>\n",
       "    </tr>\n",
       "  </tbody>\n",
       "</table>\n",
       "</div>"
      ],
      "text/plain": [
       "   Petrol_tax  Average_income  Paved_Highways  Population_Driver_licence(%)  \\\n",
       "0         9.0            3571            1976                         0.525   \n",
       "1         9.0            4092            1250                         0.572   \n",
       "2         9.0            3865            1586                         0.580   \n",
       "3         7.5            4870            2351                         0.529   \n",
       "4         8.0            4399             431                         0.544   \n",
       "\n",
       "   Petrol_Consumption  \n",
       "0                 541  \n",
       "1                 524  \n",
       "2                 561  \n",
       "3                 414  \n",
       "4                 410  "
      ]
     },
     "execution_count": 12,
     "metadata": {},
     "output_type": "execute_result"
    }
   ],
   "source": [
    "df.head()"
   ]
  },
  {
   "cell_type": "code",
   "execution_count": 13,
   "id": "a357b4ef",
   "metadata": {},
   "outputs": [
    {
     "data": {
      "text/html": [
       "<div>\n",
       "<style scoped>\n",
       "    .dataframe tbody tr th:only-of-type {\n",
       "        vertical-align: middle;\n",
       "    }\n",
       "\n",
       "    .dataframe tbody tr th {\n",
       "        vertical-align: top;\n",
       "    }\n",
       "\n",
       "    .dataframe thead th {\n",
       "        text-align: right;\n",
       "    }\n",
       "</style>\n",
       "<table border=\"1\" class=\"dataframe\">\n",
       "  <thead>\n",
       "    <tr style=\"text-align: right;\">\n",
       "      <th></th>\n",
       "      <th>Petrol_tax</th>\n",
       "      <th>Average_income</th>\n",
       "      <th>Paved_Highways</th>\n",
       "      <th>Population_Driver_licence(%)</th>\n",
       "      <th>Petrol_Consumption</th>\n",
       "    </tr>\n",
       "  </thead>\n",
       "  <tbody>\n",
       "    <tr>\n",
       "      <th>count</th>\n",
       "      <td>48.000000</td>\n",
       "      <td>48.000000</td>\n",
       "      <td>48.000000</td>\n",
       "      <td>48.000000</td>\n",
       "      <td>48.000000</td>\n",
       "    </tr>\n",
       "    <tr>\n",
       "      <th>mean</th>\n",
       "      <td>7.668333</td>\n",
       "      <td>4241.833333</td>\n",
       "      <td>5565.416667</td>\n",
       "      <td>0.570333</td>\n",
       "      <td>576.770833</td>\n",
       "    </tr>\n",
       "    <tr>\n",
       "      <th>std</th>\n",
       "      <td>0.950770</td>\n",
       "      <td>573.623768</td>\n",
       "      <td>3491.507166</td>\n",
       "      <td>0.055470</td>\n",
       "      <td>111.885816</td>\n",
       "    </tr>\n",
       "    <tr>\n",
       "      <th>min</th>\n",
       "      <td>5.000000</td>\n",
       "      <td>3063.000000</td>\n",
       "      <td>431.000000</td>\n",
       "      <td>0.451000</td>\n",
       "      <td>344.000000</td>\n",
       "    </tr>\n",
       "    <tr>\n",
       "      <th>25%</th>\n",
       "      <td>7.000000</td>\n",
       "      <td>3739.000000</td>\n",
       "      <td>3110.250000</td>\n",
       "      <td>0.529750</td>\n",
       "      <td>509.500000</td>\n",
       "    </tr>\n",
       "    <tr>\n",
       "      <th>50%</th>\n",
       "      <td>7.500000</td>\n",
       "      <td>4298.000000</td>\n",
       "      <td>4735.500000</td>\n",
       "      <td>0.564500</td>\n",
       "      <td>568.500000</td>\n",
       "    </tr>\n",
       "    <tr>\n",
       "      <th>75%</th>\n",
       "      <td>8.125000</td>\n",
       "      <td>4578.750000</td>\n",
       "      <td>7156.000000</td>\n",
       "      <td>0.595250</td>\n",
       "      <td>632.750000</td>\n",
       "    </tr>\n",
       "    <tr>\n",
       "      <th>max</th>\n",
       "      <td>10.000000</td>\n",
       "      <td>5342.000000</td>\n",
       "      <td>17782.000000</td>\n",
       "      <td>0.724000</td>\n",
       "      <td>968.000000</td>\n",
       "    </tr>\n",
       "  </tbody>\n",
       "</table>\n",
       "</div>"
      ],
      "text/plain": [
       "       Petrol_tax  Average_income  Paved_Highways  \\\n",
       "count   48.000000       48.000000       48.000000   \n",
       "mean     7.668333     4241.833333     5565.416667   \n",
       "std      0.950770      573.623768     3491.507166   \n",
       "min      5.000000     3063.000000      431.000000   \n",
       "25%      7.000000     3739.000000     3110.250000   \n",
       "50%      7.500000     4298.000000     4735.500000   \n",
       "75%      8.125000     4578.750000     7156.000000   \n",
       "max     10.000000     5342.000000    17782.000000   \n",
       "\n",
       "       Population_Driver_licence(%)  Petrol_Consumption  \n",
       "count                     48.000000           48.000000  \n",
       "mean                       0.570333          576.770833  \n",
       "std                        0.055470          111.885816  \n",
       "min                        0.451000          344.000000  \n",
       "25%                        0.529750          509.500000  \n",
       "50%                        0.564500          568.500000  \n",
       "75%                        0.595250          632.750000  \n",
       "max                        0.724000          968.000000  "
      ]
     },
     "execution_count": 13,
     "metadata": {},
     "output_type": "execute_result"
    }
   ],
   "source": [
    "df.describe()"
   ]
  },
  {
   "cell_type": "code",
   "execution_count": 14,
   "id": "ca0a9e84",
   "metadata": {},
   "outputs": [
    {
     "name": "stdout",
     "output_type": "stream",
     "text": [
      "<class 'pandas.core.frame.DataFrame'>\n",
      "RangeIndex: 48 entries, 0 to 47\n",
      "Data columns (total 5 columns):\n",
      " #   Column                        Non-Null Count  Dtype  \n",
      "---  ------                        --------------  -----  \n",
      " 0   Petrol_tax                    48 non-null     float64\n",
      " 1   Average_income                48 non-null     int64  \n",
      " 2   Paved_Highways                48 non-null     int64  \n",
      " 3   Population_Driver_licence(%)  48 non-null     float64\n",
      " 4   Petrol_Consumption            48 non-null     int64  \n",
      "dtypes: float64(2), int64(3)\n",
      "memory usage: 2.0 KB\n"
     ]
    }
   ],
   "source": [
    "df.info()"
   ]
  },
  {
   "cell_type": "code",
   "execution_count": 15,
   "id": "a6722444",
   "metadata": {},
   "outputs": [
    {
     "data": {
      "text/plain": [
       "Petrol_tax                      0\n",
       "Average_income                  0\n",
       "Paved_Highways                  0\n",
       "Population_Driver_licence(%)    0\n",
       "Petrol_Consumption              0\n",
       "dtype: int64"
      ]
     },
     "execution_count": 15,
     "metadata": {},
     "output_type": "execute_result"
    }
   ],
   "source": [
    "df.isnull().sum()"
   ]
  },
  {
   "cell_type": "code",
   "execution_count": 16,
   "id": "7235c143",
   "metadata": {},
   "outputs": [
    {
     "data": {
      "text/plain": [
       "Index(['Petrol_tax', 'Average_income', 'Paved_Highways',\n",
       "       'Population_Driver_licence(%)', 'Petrol_Consumption'],\n",
       "      dtype='object')"
      ]
     },
     "execution_count": 16,
     "metadata": {},
     "output_type": "execute_result"
    }
   ],
   "source": [
    "df.columns"
   ]
  },
  {
   "cell_type": "code",
   "execution_count": 17,
   "id": "a20ade21",
   "metadata": {},
   "outputs": [],
   "source": [
    "x = df[['Petrol_tax', 'Average_income', 'Paved_Highways',\n",
    "       'Population_Driver_licence(%)']]\n",
    "y = df['Petrol_Consumption']"
   ]
  },
  {
   "cell_type": "code",
   "execution_count": 18,
   "id": "c2ecad1f",
   "metadata": {},
   "outputs": [],
   "source": [
    "x_train, x_test,y_train,y_test = train_test_split(x,y,test_size=0.25)\n",
    "model = DecisionTreeRegressor()"
   ]
  },
  {
   "cell_type": "code",
   "execution_count": 19,
   "id": "1452b02d",
   "metadata": {},
   "outputs": [
    {
     "data": {
      "text/plain": [
       "DecisionTreeRegressor()"
      ]
     },
     "execution_count": 19,
     "metadata": {},
     "output_type": "execute_result"
    }
   ],
   "source": [
    "model.fit(x_train,y_train)"
   ]
  },
  {
   "cell_type": "code",
   "execution_count": 20,
   "id": "3a6287b1",
   "metadata": {},
   "outputs": [
    {
     "data": {
      "text/plain": [
       "[Text(0.8172554347826086, 0.95, 'X[3] <= 0.667\\nsquared_error = 10654.175\\nsamples = 36\\nvalue = 593.361'),\n",
       " Text(0.6779891304347826, 0.85, 'X[1] <= 4419.0\\nsquared_error = 4621.287\\nsamples = 34\\nvalue = 574.353'),\n",
       " Text(0.46467391304347827, 0.75, 'X[0] <= 8.75\\nsquared_error = 3029.806\\nsamples = 24\\nvalue = 599.167'),\n",
       " Text(0.29891304347826086, 0.65, 'X[2] <= 5062.0\\nsquared_error = 2835.629\\nsamples = 19\\nvalue = 613.053'),\n",
       " Text(0.16304347826086957, 0.55, 'X[1] <= 3731.5\\nsquared_error = 1754.0\\nsamples = 7\\nvalue = 646.0'),\n",
       " Text(0.08695652173913043, 0.45, 'X[0] <= 7.25\\nsquared_error = 1251.188\\nsamples = 4\\nvalue = 672.25'),\n",
       " Text(0.043478260869565216, 0.35, 'X[1] <= 3687.0\\nsquared_error = 56.25\\nsamples = 2\\nvalue = 706.5'),\n",
       " Text(0.021739130434782608, 0.25, 'squared_error = 0.0\\nsamples = 1\\nvalue = 699.0'),\n",
       " Text(0.06521739130434782, 0.25, 'squared_error = 0.0\\nsamples = 1\\nvalue = 714.0'),\n",
       " Text(0.13043478260869565, 0.35, 'X[2] <= 3697.5\\nsquared_error = 100.0\\nsamples = 2\\nvalue = 638.0'),\n",
       " Text(0.10869565217391304, 0.25, 'squared_error = 0.0\\nsamples = 1\\nvalue = 648.0'),\n",
       " Text(0.15217391304347827, 0.25, 'squared_error = 0.0\\nsamples = 1\\nvalue = 628.0'),\n",
       " Text(0.2391304347826087, 0.45, 'X[1] <= 4298.0\\nsquared_error = 280.667\\nsamples = 3\\nvalue = 611.0'),\n",
       " Text(0.21739130434782608, 0.35, 'X[1] <= 4020.5\\nsquared_error = 90.25\\nsamples = 2\\nvalue = 600.5'),\n",
       " Text(0.1956521739130435, 0.25, 'squared_error = 0.0\\nsamples = 1\\nvalue = 591.0'),\n",
       " Text(0.2391304347826087, 0.25, 'squared_error = 0.0\\nsamples = 1\\nvalue = 610.0'),\n",
       " Text(0.2608695652173913, 0.35, 'squared_error = 0.0\\nsamples = 1\\nvalue = 632.0'),\n",
       " Text(0.43478260869565216, 0.55, 'X[3] <= 0.565\\nsquared_error = 2463.972\\nsamples = 12\\nvalue = 593.833'),\n",
       " Text(0.34782608695652173, 0.45, 'X[0] <= 7.5\\nsquared_error = 623.889\\nsamples = 6\\nvalue = 560.667'),\n",
       " Text(0.30434782608695654, 0.35, 'X[2] <= 6587.0\\nsquared_error = 708.222\\nsamples = 3\\nvalue = 544.333'),\n",
       " Text(0.2826086956521739, 0.25, 'squared_error = 0.0\\nsamples = 1\\nvalue = 508.0'),\n",
       " Text(0.32608695652173914, 0.25, 'X[1] <= 3486.5\\nsquared_error = 72.25\\nsamples = 2\\nvalue = 562.5'),\n",
       " Text(0.30434782608695654, 0.15, 'squared_error = 0.0\\nsamples = 1\\nvalue = 554.0'),\n",
       " Text(0.34782608695652173, 0.15, 'squared_error = 0.0\\nsamples = 1\\nvalue = 571.0'),\n",
       " Text(0.391304347826087, 0.35, 'X[3] <= 0.539\\nsquared_error = 6.0\\nsamples = 3\\nvalue = 577.0'),\n",
       " Text(0.3695652173913043, 0.25, 'squared_error = 0.0\\nsamples = 1\\nvalue = 580.0'),\n",
       " Text(0.41304347826086957, 0.25, 'X[1] <= 3818.0\\nsquared_error = 2.25\\nsamples = 2\\nvalue = 575.5'),\n",
       " Text(0.391304347826087, 0.15, 'squared_error = 0.0\\nsamples = 1\\nvalue = 577.0'),\n",
       " Text(0.43478260869565216, 0.15, 'squared_error = 0.0\\nsamples = 1\\nvalue = 574.0'),\n",
       " Text(0.5217391304347826, 0.45, 'X[2] <= 6454.5\\nsquared_error = 2104.0\\nsamples = 6\\nvalue = 627.0'),\n",
       " Text(0.5, 0.35, 'squared_error = 0.0\\nsamples = 1\\nvalue = 704.0'),\n",
       " Text(0.5434782608695652, 0.35, 'X[0] <= 6.79\\nsquared_error = 1101.84\\nsamples = 5\\nvalue = 611.6'),\n",
       " Text(0.5, 0.25, 'X[3] <= 0.597\\nsquared_error = 4.0\\nsamples = 2\\nvalue = 642.0'),\n",
       " Text(0.4782608695652174, 0.15, 'squared_error = 0.0\\nsamples = 1\\nvalue = 640.0'),\n",
       " Text(0.5217391304347826, 0.15, 'squared_error = 0.0\\nsamples = 1\\nvalue = 644.0'),\n",
       " Text(0.5869565217391305, 0.25, 'X[2] <= 8610.0\\nsquared_error = 806.889\\nsamples = 3\\nvalue = 591.333'),\n",
       " Text(0.5652173913043478, 0.15, 'X[1] <= 3697.5\\nsquared_error = 30.25\\nsamples = 2\\nvalue = 571.5'),\n",
       " Text(0.5434782608695652, 0.05, 'squared_error = 0.0\\nsamples = 1\\nvalue = 577.0'),\n",
       " Text(0.5869565217391305, 0.05, 'squared_error = 0.0\\nsamples = 1\\nvalue = 566.0'),\n",
       " Text(0.6086956521739131, 0.15, 'squared_error = 0.0\\nsamples = 1\\nvalue = 631.0'),\n",
       " Text(0.6304347826086957, 0.65, 'X[2] <= 1418.0\\nsquared_error = 250.64\\nsamples = 5\\nvalue = 546.4'),\n",
       " Text(0.6086956521739131, 0.55, 'squared_error = 0.0\\nsamples = 1\\nvalue = 524.0'),\n",
       " Text(0.6521739130434783, 0.55, 'X[3] <= 0.531\\nsquared_error = 156.5\\nsamples = 4\\nvalue = 552.0'),\n",
       " Text(0.6086956521739131, 0.45, 'X[1] <= 3929.5\\nsquared_error = 42.25\\nsamples = 2\\nvalue = 540.5'),\n",
       " Text(0.5869565217391305, 0.35, 'squared_error = 0.0\\nsamples = 1\\nvalue = 534.0'),\n",
       " Text(0.6304347826086957, 0.35, 'squared_error = 0.0\\nsamples = 1\\nvalue = 547.0'),\n",
       " Text(0.6956521739130435, 0.45, 'X[1] <= 3793.0\\nsquared_error = 6.25\\nsamples = 2\\nvalue = 563.5'),\n",
       " Text(0.6739130434782609, 0.35, 'squared_error = 0.0\\nsamples = 1\\nvalue = 566.0'),\n",
       " Text(0.717391304347826, 0.35, 'squared_error = 0.0\\nsamples = 1\\nvalue = 561.0'),\n",
       " Text(0.8913043478260869, 0.75, 'X[3] <= 0.609\\nsquared_error = 3416.56\\nsamples = 10\\nvalue = 514.8'),\n",
       " Text(0.8260869565217391, 0.65, 'X[3] <= 0.562\\nsquared_error = 702.25\\nsamples = 8\\nvalue = 489.0'),\n",
       " Text(0.7608695652173914, 0.55, 'X[0] <= 7.5\\nsquared_error = 192.64\\nsamples = 5\\nvalue = 470.6'),\n",
       " Text(0.7391304347826086, 0.45, 'squared_error = 0.0\\nsamples = 1\\nvalue = 498.0'),\n",
       " Text(0.782608695652174, 0.45, 'X[3] <= 0.552\\nsquared_error = 6.188\\nsamples = 4\\nvalue = 463.75'),\n",
       " Text(0.7608695652173914, 0.35, 'X[3] <= 0.54\\nsquared_error = 3.556\\nsamples = 3\\nvalue = 462.667'),\n",
       " Text(0.7391304347826086, 0.25, 'squared_error = 0.0\\nsamples = 2\\nvalue = 464.0'),\n",
       " Text(0.782608695652174, 0.25, 'squared_error = 0.0\\nsamples = 1\\nvalue = 460.0'),\n",
       " Text(0.8043478260869565, 0.35, 'squared_error = 0.0\\nsamples = 1\\nvalue = 467.0'),\n",
       " Text(0.8913043478260869, 0.55, 'X[0] <= 8.0\\nsquared_error = 46.889\\nsamples = 3\\nvalue = 519.667'),\n",
       " Text(0.8695652173913043, 0.45, 'X[1] <= 4909.5\\nsquared_error = 0.25\\nsamples = 2\\nvalue = 524.5'),\n",
       " Text(0.8478260869565217, 0.35, 'squared_error = 0.0\\nsamples = 1\\nvalue = 525.0'),\n",
       " Text(0.8913043478260869, 0.35, 'squared_error = 0.0\\nsamples = 1\\nvalue = 524.0'),\n",
       " Text(0.9130434782608695, 0.45, 'squared_error = 0.0\\nsamples = 1\\nvalue = 510.0'),\n",
       " Text(0.9565217391304348, 0.65, 'X[1] <= 4521.0\\nsquared_error = 961.0\\nsamples = 2\\nvalue = 618.0'),\n",
       " Text(0.9347826086956522, 0.55, 'squared_error = 0.0\\nsamples = 1\\nvalue = 587.0'),\n",
       " Text(0.9782608695652174, 0.55, 'squared_error = 0.0\\nsamples = 1\\nvalue = 649.0'),\n",
       " Text(0.9565217391304348, 0.85, 'X[3] <= 0.698\\nsquared_error = 2652.25\\nsamples = 2\\nvalue = 916.5'),\n",
       " Text(0.9347826086956522, 0.75, 'squared_error = 0.0\\nsamples = 1\\nvalue = 968.0'),\n",
       " Text(0.9782608695652174, 0.75, 'squared_error = 0.0\\nsamples = 1\\nvalue = 865.0')]"
      ]
     },
     "execution_count": 20,
     "metadata": {},
     "output_type": "execute_result"
    },
    {
     "data": {
      "image/png": "[encoded data removed]",
      "text/plain": [
       "<Figure size 640x480 with 1 Axes>"
      ]
     },
     "metadata": {},
     "output_type": "display_data"
    }
   ],
   "source": [
    "plot_tree(model)"
   ]
  },
  {
   "cell_type": "code",
   "execution_count": 21,
   "id": "dda23c13",
   "metadata": {},
   "outputs": [
    {
     "data": {
      "text/html": [
       "<div>\n",
       "<style scoped>\n",
       "    .dataframe tbody tr th:only-of-type {\n",
       "        vertical-align: middle;\n",
       "    }\n",
       "\n",
       "    .dataframe tbody tr th {\n",
       "        vertical-align: top;\n",
       "    }\n",
       "\n",
       "    .dataframe thead th {\n",
       "        text-align: right;\n",
       "    }\n",
       "</style>\n",
       "<table border=\"1\" class=\"dataframe\">\n",
       "  <thead>\n",
       "    <tr style=\"text-align: right;\">\n",
       "      <th></th>\n",
       "      <th>Real</th>\n",
       "      <th>Pred</th>\n",
       "    </tr>\n",
       "  </thead>\n",
       "  <tbody>\n",
       "    <tr>\n",
       "      <th>5</th>\n",
       "      <td>457</td>\n",
       "      <td>510.0</td>\n",
       "    </tr>\n",
       "    <tr>\n",
       "      <th>15</th>\n",
       "      <td>635</td>\n",
       "      <td>631.0</td>\n",
       "    </tr>\n",
       "    <tr>\n",
       "      <th>16</th>\n",
       "      <td>603</td>\n",
       "      <td>566.0</td>\n",
       "    </tr>\n",
       "    <tr>\n",
       "      <th>44</th>\n",
       "      <td>782</td>\n",
       "      <td>968.0</td>\n",
       "    </tr>\n",
       "    <tr>\n",
       "      <th>21</th>\n",
       "      <td>540</td>\n",
       "      <td>524.0</td>\n",
       "    </tr>\n",
       "  </tbody>\n",
       "</table>\n",
       "</div>"
      ],
      "text/plain": [
       "    Real   Pred\n",
       "5    457  510.0\n",
       "15   635  631.0\n",
       "16   603  566.0\n",
       "44   782  968.0\n",
       "21   540  524.0"
      ]
     },
     "execution_count": 21,
     "metadata": {},
     "output_type": "execute_result"
    }
   ],
   "source": [
    "data = pd.DataFrame({'Real' : y_test, 'Pred': model.predict(x_test)})\n",
    "data.sample(5)"
   ]
  },
  {
   "cell_type": "code",
   "execution_count": 22,
   "id": "6eee2823",
   "metadata": {},
   "outputs": [
    {
     "name": "stdout",
     "output_type": "stream",
     "text": [
      "MAE = 103.75\n",
      "MSE = 20339.083333333332\n"
     ]
    }
   ],
   "source": [
    "from sklearn import metrics\n",
    "print(f'MAE = {metrics.mean_absolute_error(y_test,model.predict(x_test))}')\n",
    "print(f'MSE = {metrics.mean_squared_error(y_test,model.predict(x_test))}')"
   ]
  },
  {
   "attachments": {
    "image.png": {
     "image/png": "[encoded data removed]"
    }
   },
   "cell_type": "markdown",
   "id": "b580b958",
   "metadata": {},
   "source": [
    "# Задание * Вариант №6\n",
    "![image.png](attachment:image.png)"
   ]
  },
  {
   "cell_type": "code",
   "execution_count": 23,
   "id": "93009b59",
   "metadata": {},
   "outputs": [],
   "source": [
    "new_x = np.array([5, 5.2, 5.4, 5.6, 5.8, 6.0]).reshape(-1,1)\n",
    "new_target = np.array([3, 2, 5, 2, 2, 3]).reshape(-1,1)"
   ]
  },
  {
   "cell_type": "code",
   "execution_count": 26,
   "id": "1e6de9ab",
   "metadata": {},
   "outputs": [
    {
     "data": {
      "text/plain": [
       "DecisionTreeRegressor()"
      ]
     },
     "execution_count": 26,
     "metadata": {},
     "output_type": "execute_result"
    }
   ],
   "source": [
    "new_model = DecisionTreeRegressor()\n",
    "new_model.fit(new_x,new_target)"
   ]
  },
  {
   "cell_type": "code",
   "execution_count": 27,
   "id": "ee15e286",
   "metadata": {},
   "outputs": [
    {
     "data": {
      "text/plain": [
       "[Text(0.5555555555555556, 0.875, 'X[0] <= 5.5\\nsquared_error = 1.139\\nsamples = 6\\nvalue = 2.833'),\n",
       " Text(0.3333333333333333, 0.625, 'X[0] <= 5.3\\nsquared_error = 1.556\\nsamples = 3\\nvalue = 3.333'),\n",
       " Text(0.2222222222222222, 0.375, 'X[0] <= 5.1\\nsquared_error = 0.25\\nsamples = 2\\nvalue = 2.5'),\n",
       " Text(0.1111111111111111, 0.125, 'squared_error = 0.0\\nsamples = 1\\nvalue = 3.0'),\n",
       " Text(0.3333333333333333, 0.125, 'squared_error = 0.0\\nsamples = 1\\nvalue = 2.0'),\n",
       " Text(0.4444444444444444, 0.375, 'squared_error = 0.0\\nsamples = 1\\nvalue = 5.0'),\n",
       " Text(0.7777777777777778, 0.625, 'X[0] <= 5.9\\nsquared_error = 0.222\\nsamples = 3\\nvalue = 2.333'),\n",
       " Text(0.6666666666666666, 0.375, 'squared_error = 0.0\\nsamples = 2\\nvalue = 2.0'),\n",
       " Text(0.8888888888888888, 0.375, 'squared_error = 0.0\\nsamples = 1\\nvalue = 3.0')]"
      ]
     },
     "execution_count": 27,
     "metadata": {},
     "output_type": "execute_result"
    },
    {
     "data": {
      "image/png": "[encoded data removed]",
      "text/plain": [
       "<Figure size 640x480 with 1 Axes>"
      ]
     },
     "metadata": {},
     "output_type": "display_data"
    }
   ],
   "source": [
    "plot_tree(new_model)\n"
   ]
  },
  {
   "cell_type": "code",
   "execution_count": 28,
   "id": "159f3b2e",
   "metadata": {},
   "outputs": [
    {
     "data": {
      "text/plain": [
       "array([3., 2., 5., 2., 2., 3.])"
      ]
     },
     "execution_count": 28,
     "metadata": {},
     "output_type": "execute_result"
    }
   ],
   "source": [
    "new_model.predict(np.array([5, 5.2, 5.4, 5.6, 5.8, 6.0]).reshape(-1,1))"
   ]
  }
 ],
 "metadata": {
  "kernelspec": {
   "display_name": "Python 3 (ipykernel)",
   "language": "python",
   "name": "python3"
  },
  "language_info": {
   "codemirror_mode": {
    "name": "ipython",
    "version": 3
   },
   "file_extension": ".py",
   "mimetype": "text/x-python",
   "name": "python",
   "nbconvert_exporter": "python",
   "pygments_lexer": "ipython3",
   "version": "3.11.0rc2"
  }
 },
 "nbformat": 4,
 "nbformat_minor": 5
}
