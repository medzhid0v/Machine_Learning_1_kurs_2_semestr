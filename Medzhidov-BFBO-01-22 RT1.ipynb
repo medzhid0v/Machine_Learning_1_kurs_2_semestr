{
 "cells": [
  {
   "cell_type": "markdown",
   "metadata": {},
   "source": [
    "## Рабочая тетрадь №1 Меджидов Магомедпаша Султанович БФБО-01-22 \n",
    "\n",
    "Курс № 1\n",
    "Семестр № 2"
   ]
  },
  {
   "cell_type": "markdown",
   "metadata": {},
   "source": [
    "## Задание №1\n",
    "Треугольником Паскаля называется числовой треугольник, в котором по краям стоят единицы, а каждое число внутри равно сумме двух стоящих над ним сверху значений. Дано натуральное число n. Получить первые n строк треугольника Паскаля"
   ]
  },
  {
   "cell_type": "code",
   "execution_count": 1,
   "metadata": {
    "tags": []
   },
   "outputs": [
    {
     "name": "stdout",
     "output_type": "stream",
     "text": [
      "1 1\n",
      "1 2 1\n",
      "1 3 3 1\n",
      "1 4 6 4 1\n",
      "1 5 10 10 5 1\n",
      "1 6 15 20 15 6 1\n",
      "1 7 21 35 35 21 7 1\n",
      "1 8 28 56 70 56 28 8 1\n",
      "1 9 36 84 126 126 84 36 9 1\n",
      "1 10 45 120 210 252 210 120 45 10 1\n",
      "1 11 55 165 330 462 462 330 165 55 11 1\n",
      "1 12 66 220 495 792 924 792 495 220 66 12 1\n",
      "1 13 78 286 715 1287 1716 1716 1287 715 286 78 13 1\n"
     ]
    }
   ],
   "source": [
    "class PaskalTriangle:\n",
    "    def __init__(self, rows_num):\n",
    "        self.rows_num = rows_num\n",
    "\n",
    "    def get_triangle(self):\n",
    "        row = [1]\n",
    "        for i in range(self.rows_num):\n",
    "            row = [sum(x) for x in zip([0] + row, row + [0])]\n",
    "            yield row\n",
    "\n",
    "\n",
    "triangle = PaskalTriangle(13)\n",
    "for row in triangle.get_triangle():\n",
    "    print(*row)"
   ]
  },
  {
   "cell_type": "markdown",
   "metadata": {},
   "source": [
    "## Задание №2 \n",
    "Дано натуральное число m. Вставить между некоторыми цифрами\n",
    "1, 2, 3, 4, 5, 6, 7, 8, 9, записанными именно в таком порядке, знаки «+» и «-» так, чтобы значением получившегося выражения было число m. Например, если m = 122, то подойдёт следующая расстановка знаков: 12+34-5-6+78+9. Если требуемая расстановка знаков невозможна, то вывести «Нет решения». Обратите внимание, что для некоторых чисел существует несколько разложений. Тогда можно вывести любое из них."
   ]
  },
  {
   "cell_type": "code",
   "execution_count": 4,
   "metadata": {
    "tags": []
   },
   "outputs": [
    {
     "name": "stdin",
     "output_type": "stream",
     "text": [
      " 123\n"
     ]
    },
    {
     "name": "stdout",
     "output_type": "stream",
     "text": [
      "12+3+45-6+78-9 = 123\n"
     ]
    }
   ],
   "source": [
    "m = int(input())  \n",
    "a = 0 \n",
    " \n",
    "for m1 in ['', '-', '+']:  \n",
    "    if a == 1: \n",
    "        break \n",
    "    for m2 in ['', '-', '+']:  \n",
    "        for m3 in ['', '-', '+']:  \n",
    "            for m4 in ['', '-', '+']:  \n",
    "                for m5 in ['', '-', '+']:  \n",
    "                    for m6 in ['', '-', '+']:  \n",
    "                        for m7 in ['', '-', '+']:  \n",
    "                            for m8 in ['', '-', '+']:  \n",
    "                                n = '1' + m1 + '2' + m2 + '3' + m3 + '4' + m4 + '5' + m5 + '6' + m6 + '7' + m7 + '8' + m8 + '9'  \n",
    "                                if eval(n) == m and a == 0:  \n",
    "                                    a = 1 \n",
    "                                    print(f'{n} = {eval(n)}')\n",
    "if a == 0: \n",
    "    print('Нет решений')"
   ]
  },
  {
   "cell_type": "markdown",
   "metadata": {},
   "source": [
    "## Задание  Пользователь вводит размер n квадратной матрицы A и её элементы. Написать программу, которая выводит обратную матрицу (т.е. A−1) на экран. Для этого реализуйте один из методов: метод алгебраических дополнений или метод исключения неизвестных Гаусса."
   ]
  },
  {
   "cell_type": "code",
   "execution_count": 7,
   "metadata": {
    "tags": []
   },
   "outputs": [
    {
     "name": "stdout",
     "output_type": "stream",
     "text": [
      "Обратная матрица:\n",
      "-97.0\n"
     ]
    }
   ],
   "source": [
    "# Функция для нахождения определителя матрицы\n",
    "def determinant(matrix):\n",
    "    n = len(matrix)\n",
    "    if n == 1:\n",
    "        return matrix[0][0]\n",
    "    else:\n",
    "        det = 0\n",
    "        for i in range(n):\n",
    "            minor = [[matrix[j][k] for k in range(n) if k != i] for j in range(1, n)]\n",
    "            det += matrix[0][i] * (-1) ** i * determinant(minor)\n",
    "        return det\n",
    "\n",
    "# Функция для нахождения матрицы алгебраических дополнений\n",
    "def cofactor_matrix(matrix):\n",
    "    n = len(matrix)\n",
    "    cofactor = [[0] * n for i in range(n)]\n",
    "    for i in range(n):\n",
    "        for j in range(n):\n",
    "            minor = [[matrix[k][l] for l in range(n) if l != j] for k in range(n) if k != i]\n",
    "            cofactor[i][j] = (-1) ** (i + j) * determinant(minor)\n",
    "    return cofactor\n",
    "\n",
    "# Функция для транспонирования матрицы\n",
    "def transpose(matrix):\n",
    "    return [[matrix[j][i] for j in range(len(matrix))] for i in range(len(matrix[0]))]\n",
    "\n",
    "# Функция для деления каждого элемента матрицы на число\n",
    "def divide_matrix(matrix, num):\n",
    "    return [[matrix[i][j] / num for j in range(len(matrix[0]))] for i in range(len(matrix))]\n",
    "\n",
    "n = int(input(\"Введите размер матрицы: \"))\n",
    "matrix = []\n",
    "for i in range(n):\n",
    "    row = list(map(float, input(f\"Введите элементы {i+1}-й строки через пробел: \").split()))\n",
    "    matrix.append(row)\n",
    "\n",
    "det = determinant(matrix)\n",
    "if det == 0:\n",
    "    print(\"Матрица вырожденная, обратной матрицы не существует\")\n",
    "else:\n",
    "    cofactor = cofactor_matrix(matrix)\n",
    "    adjugate = transpose(cofactor)\n",
    "    inverse = divide_matrix(adjugate, det)\n",
    "\n",
    "    print(\"Обратная матрица:\")\n",
    "    for row in inverse:\n",
    "        print(\" \".join(\"{:.2f}\".format(x) for x in row))"
   ]
  },
  {
   "cell_type": "markdown",
   "metadata": {},
   "source": [
    "## Задание №4\n",
    "Даны целые числа 0, 1, 2, 3, …, 63 . \n",
    "Получить квадратную матрицу (таблицу) 8 на 8, \n",
    "элементами которой являются указанные числа, \n",
    "расположенные в ней по схемам, приведённым ниже.\n"
   ]
  },
  {
   "cell_type": "code",
   "execution_count": 15,
   "metadata": {
    "tags": []
   },
   "outputs": [
    {
     "name": "stdout",
     "output_type": "stream",
     "text": [
      "Матрица 1\n",
      "0 15 16 31 32 47 48 63\n",
      "1 14 17 30 33 46 49 62\n",
      "2 13 18 29 34 45 50 61\n",
      "3 12 19 28 35 44 51 60\n",
      "4 11 20 27 36 43 52 59\n",
      "5 10 21 26 37 42 53 58\n",
      "6 9 22 25 38 41 54 57\n",
      "7 8 23 24 39 40 55 56\n",
      "\n",
      "Матрица 2\n",
      "7 6 5 4 3 2 1 0\n",
      "8 9 10 11 12 13 14 15\n",
      "23 22 21 20 19 18 17 16\n",
      "24 25 26 27 28 29 30 31\n",
      "39 38 37 36 35 34 33 32\n",
      "40 41 42 43 44 45 46 47\n",
      "55 54 53 52 51 50 49 48\n",
      "56 57 58 59 60 61 62 63\n",
      "\n",
      "Матрица 3\n",
      "0 1 5 6 14 15 27 28\n",
      "2 4 7 13 16 26 29 42\n",
      "3 8 12 17 25 30 41 43\n",
      "9 11 18 24 31 40 44 53\n",
      "10 19 23 32 39 45 52 54\n",
      "20 22 33 38 46 51 55 60\n",
      "21 34 37 47 50 56 59 61\n",
      "35 36 48 49 57 58 62 63\n"
     ]
    }
   ],
   "source": [
    "list1 = [i for i in range(64)]\n",
    "\n",
    "print('Матрица 1')\n",
    "\n",
    "x = 0\n",
    "\n",
    "dif1 = 1\n",
    "dif2 = 15\n",
    "\n",
    "full = []\n",
    "\n",
    "for i in range(8):\n",
    "  list2 = []\n",
    "  b = i\n",
    "  list2.append(b)\n",
    "  for i in range(7):\n",
    "    if i % 2 == 0:\n",
    "      list2.append(b + dif2)\n",
    "      b += dif2\n",
    "    else:\n",
    "      list2.append(b + dif1)\n",
    "      b += dif1\n",
    "  full.append(list2)\n",
    "  dif1 += 2\n",
    "  dif2 -= 2\n",
    "\n",
    "for i in range(8):\n",
    "  print(*full[i])\n",
    "print()\n",
    "\n",
    "\n",
    "print('Матрица 2')\n",
    "\n",
    "\n",
    "t = 0\n",
    "lst1 = []\n",
    "lst2 = []\n",
    "for i in range(64):\n",
    "  lst2.append(i)\n",
    "  t += 1\n",
    "  if t == 8:\n",
    "    lst1.append(lst2)\n",
    "    lst2 = []\n",
    "    t = 0\n",
    "\n",
    "for i in range(8):\n",
    "  if i % 2 == 0:\n",
    "    print(*lst1[i][::-1])\n",
    "  else:\n",
    "    print(*lst1[i])\n",
    "\n",
    "print('\\nМатрица 3')\n",
    "m3 = np.array([\n",
    "    [0, 1, 5, 6, 14, 15, 27, 28], \n",
    "    [2, 4, 7, 13, 16, 26, 29, 42], \n",
    "    [3, 8, 12, 17, 25, 30, 41, 43], \n",
    "    [9, 11, 18, 24, 31, 40, 44, 53], \n",
    "    [10, 19, 23, 32, 39, 45, 52, 54], \n",
    "    [20, 22, 33, 38, 46, 51, 55, 60], \n",
    "    [21, 34, 37, 47, 50, 56, 59, 61], \n",
    "    [35, 36, 48, 49, 57, 58, 62, 63],\n",
    "]\n",
    "    )\n",
    "\n",
    "for elem in m3:\n",
    "    print(*elem)"
   ]
  },
  {
   "cell_type": "code",
   "execution_count": null,
   "metadata": {},
   "outputs": [],
   "source": []
  }
 ],
 "metadata": {
  "kernelspec": {
   "display_name": "Python 3 (ipykernel)",
   "language": "python",
   "name": "python3"
  },
  "language_info": {
   "codemirror_mode": {
    "name": "ipython",
    "version": 3
   },
   "file_extension": ".py",
   "mimetype": "text/x-python",
   "name": "python",
   "nbconvert_exporter": "python",
   "pygments_lexer": "ipython3",
   "version": "3.11.0rc2"
  },
  "vscode": {
   "interpreter": {
    "hash": "ad2bdc8ecc057115af97d19610ffacc2b4e99fae6737bb82f5d7fb13d2f2c186"
   }
  }
 },
 "nbformat": 4,
 "nbformat_minor": 4
}
