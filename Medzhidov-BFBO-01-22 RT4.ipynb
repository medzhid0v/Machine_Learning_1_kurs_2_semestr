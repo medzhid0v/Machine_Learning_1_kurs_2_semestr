{
 "cells": [
  {
   "cell_type": "markdown",
   "id": "0bbae839-fa16-4387-8c7b-f936ff265593",
   "metadata": {},
   "source": [
    "## Рабочая тетрадь №4 Меджидов Магомедпаша Султанович БФБО-01-22\n",
    "\n",
    "Курс № 1 Семестр № 2"
   ]
  },
  {
   "cell_type": "markdown",
   "id": "00a25b0a",
   "metadata": {},
   "source": [
    "# Задание 1\n",
    "Реализовать классы нейросетей по аналогии с классом OurNeuralNetwork. Данные нейросети:\n",
    "\tтри входа (x_1,x_2,x_3 );\n",
    "\tтри нейрона в скрытых слоях (h_1,h_2,h_3);\n",
    "\tвыход (o_1).\n",
    "Нейроны имеют идентичные веса и пороги:\n",
    "\tw = [0.5,0.5,0.5] \n",
    "\tb = 0 \n",
    "Данные нейросети:\n",
    "\tдва входа (x_1,x_2);\n",
    "\tдва нейрона в скрытых слоях (h_1,h_2);\n",
    "\tдва выхода (o_1,o_2 ).\n",
    "Нейроны имеют идентичные веса и пороги:\n",
    "\tw = [1,0];\n",
    "b = 1."
   ]
  },
  {
   "cell_type": "code",
   "execution_count": 4,
   "id": "06057abf",
   "metadata": {},
   "outputs": [
    {
     "name": "stdout",
     "output_type": "stream",
     "text": [
      "0.8067238139969796\n"
     ]
    }
   ],
   "source": [
    "import numpy as np\n",
    "\n",
    "def sigmoid(x):\n",
    "    return 1 / (1 + np.exp(-x))\n",
    "\n",
    "class Neuron:\n",
    "\n",
    "    def __init__(self, weights, bias):\n",
    "        self.weights = weights\n",
    "        self.bias = bias\n",
    "    def feedforward(self ,inputs):\n",
    "        total = np.dot(self.weights, inputs) + self.bias\n",
    "        return sigmoid(total)\n",
    "\n",
    "class OurNeuralNetwork:\n",
    "    def __init__(self):\n",
    "        weights = np.array([0.5, 0.5, 0.5])\n",
    "        bias = 0\n",
    "        self.h1 = Neuron(weights, bias)\n",
    "        self.h2 = Neuron(weights, bias)\n",
    "        self.h3 = Neuron(weights, bias)\n",
    "        self.o1 = Neuron(weights, bias)\n",
    "    def feedforward(self, x):\n",
    "        out_h1 = self.h1.feedforward(x)\n",
    "        out_h2 = self.h2.feedforward(x)\n",
    "        out_h3 = self.h3.feedforward(x)\n",
    "        out_o1 = self.o1.feedforward(np.array([out_h1, out_h2, out_h3]))\n",
    "        return out_o1\n",
    "network = OurNeuralNetwork()\n",
    "x = np.array([2, 3, 1])\n",
    "print(network.feedforward(x))"
   ]
  },
  {
   "cell_type": "code",
   "execution_count": 6,
   "id": "8c12ba71",
   "metadata": {},
   "outputs": [
    {
     "name": "stdout",
     "output_type": "stream",
     "text": [
      "(0.8757270529783324, 0.8757270529783324)\n"
     ]
    }
   ],
   "source": [
    "import numpy as np\n",
    "\n",
    "def sigmoid(x):\n",
    "    return 1 / (1 + np.exp(-x))\n",
    "\n",
    "class Neuron:\n",
    "\n",
    "    def __init__(self, weights, bias):\n",
    "        self.weights = weights\n",
    "        self.bias = bias\n",
    "    def feedforward(self ,inputs):\n",
    "        total = np.dot(self.weights, inputs) + self.bias\n",
    "        return sigmoid(total)\n",
    "\n",
    "class OurNeuralNetwork:\n",
    "    def __init__(self):\n",
    "        weights = np.array([1, 0])\n",
    "        bias = 1\n",
    "        self.h1 = Neuron(weights, bias)\n",
    "        self.h2 = Neuron(weights, bias)\n",
    "        self.o1 = Neuron(weights, bias)\n",
    "        self.o2 = Neuron(weights, bias)\n",
    "    def feedforward(self, x):\n",
    "        out_h1 = self.h1.feedforward(x)\n",
    "        out_h2 = self.h2.feedforward(x)\n",
    "        out_o1 = self.o1.feedforward(np.array([out_h1, out_h1]))\n",
    "        out_o2 = self.o2.feedforward(np.array([out_h2, out_h2]))\n",
    "        return out_o1, out_o2\n",
    "network = OurNeuralNetwork()\n",
    "x = np.array([2, 3])\n",
    "print(network.feedforward(x))"
   ]
  },
  {
   "cell_type": "markdown",
   "id": "127191bc",
   "metadata": {},
   "source": [
    "# Задание 2\n",
    "Реализуйте классы нейронных сетей с использованием других функций активации."
   ]
  },
  {
   "cell_type": "code",
   "execution_count": 3,
   "id": "93aa4fdc",
   "metadata": {},
   "outputs": [
    {
     "name": "stdout",
     "output_type": "stream",
     "text": [
      "0.8807970779778823\n"
     ]
    }
   ],
   "source": [
    "import numpy as np \n",
    "\n",
    "def sigmoid(x):\n",
    "    return 1 / (1 + np.exp(-x))\n",
    "class Neuron:\n",
    "    def __init__(self, weights, bias):\n",
    "        self.weights = weights\n",
    "        self.bias = bias\n",
    "    def feedforward(self, inputs):\n",
    "        total = np.dot(self.weights, inputs) + self.bias\n",
    "        return sigmoid(total)\n",
    "\n",
    "weights = np.array([1, 0])\n",
    "bias = 0\n",
    "n = Neuron(weights, bias)\n",
    "x = np.array([2, 3])\n",
    "print(n.feedforward(x))"
   ]
  },
  {
   "cell_type": "code",
   "execution_count": 12,
   "id": "fae6285c",
   "metadata": {},
   "outputs": [
    {
     "name": "stdout",
     "output_type": "stream",
     "text": [
      "0.9640275800758168\n"
     ]
    }
   ],
   "source": [
    "import numpy as np\n",
    "\n",
    "def tanh(x):\n",
    "    return (1 - np.exp(-x)) / (1 + np.exp(-x))\n",
    "\n",
    "class Neuron:\n",
    "    def __init__(self, weights, bias):\n",
    "        self.weights = weights\n",
    "        self.bias = bias\n",
    "    def feedforward(self, inputs):\n",
    "        total = np.dot(self.weights, inputs) + self.bias\n",
    "        return tanh(total)\n",
    "    \n",
    "weights = np.array([1, 0])\n",
    "bias = 2\n",
    "n = Neuron(weights, bias)\n",
    "x = np.array([2,3])\n",
    "print(n.feedforward(x))"
   ]
  },
  {
   "cell_type": "code",
   "execution_count": 5,
   "id": "52798042",
   "metadata": {},
   "outputs": [
    {
     "name": "stdout",
     "output_type": "stream",
     "text": [
      "4\n"
     ]
    }
   ],
   "source": [
    "import numpy as np\n",
    "\n",
    "def ReLU(x):\n",
    "    return max(0,x)\n",
    "class Neuron:\n",
    "    def __init__(self, weights, bias):\n",
    "        self.weights = weights\n",
    "        self.bias = bias\n",
    "    def feedforward(self, inputs):\n",
    "        total = np.dot(self.weights, inputs) + self.bias\n",
    "        return ReLU(total)\n",
    "\n",
    "weights = np.array([1, 0])\n",
    "bias = 2\n",
    "n = Neuron(weights, bias)\n",
    "x = np.array([2, 3])\n",
    "print(n.feedforward(x))"
   ]
  },
  {
   "cell_type": "markdown",
   "id": "fdaa86cb",
   "metadata": {},
   "source": [
    "# Задание 3\n",
    "Используйте классы MLPClassified и MLPRegressor для классификации и регрессии произвольных данных из интернета. Проведите анализ атрибуты, полученных моделей.\n",
    "\n",
    "Для классификации можете взять набор данных Ирисов:\n",
    "https://gist.githubusercontent.com/netj/8836201/raw/6f9306ad21398ea43cba4f7d537619d0e07d5ae3/iris.csv\n",
    "а для регрессии датасет зависимости заработной платы от опыта работы:\n",
    "https://raw.githubusercontent.com/AnnaShestova/salary-years-simple-linear-regression/master/Salary_Data.csv \n"
   ]
  },
  {
   "cell_type": "code",
   "execution_count": 16,
   "id": "20f65c56",
   "metadata": {},
   "outputs": [
    {
     "name": "stdout",
     "output_type": "stream",
     "text": [
      "Dataset Sizes :  (150, 4) (150,)\n",
      "Train/Test Sizes :  (120, 4) (30, 4) (120,) (30,)\n",
      "['Versicolor' 'Virginica' 'Virginica' 'Versicolor' 'Setosa' 'Virginica'\n",
      " 'Versicolor' 'Setosa' 'Setosa' 'Versicolor' 'Virginica' 'Setosa'\n",
      " 'Versicolor' 'Virginica' 'Virginica']\n",
      "72     Versicolor\n",
      "112     Virginica\n",
      "132     Virginica\n",
      "88     Versicolor\n",
      "37         Setosa\n",
      "138     Virginica\n",
      "87     Versicolor\n",
      "42         Setosa\n",
      "8          Setosa\n",
      "90     Versicolor\n",
      "141     Virginica\n",
      "33         Setosa\n",
      "59     Versicolor\n",
      "116     Virginica\n",
      "135     Virginica\n",
      "Name: variety, dtype: object\n",
      "Test Accuracy : 0.967\n",
      "Training Accuracy : 0.975\n",
      "Loss :  0.3012607394074939\n",
      "Number of Coefs :  2\n",
      "2\n",
      "200\n",
      "softmax\n"
     ]
    },
    {
     "name": "stderr",
     "output_type": "stream",
     "text": [
      "C:\\Users\\MI\\anaconda3\\lib\\site-packages\\sklearn\\neural_network\\_multilayer_perceptron.py:692: ConvergenceWarning: Stochastic Optimizer: Maximum iterations (200) reached and the optimization hasn't converged yet.\n",
      "  warnings.warn(\n"
     ]
    }
   ],
   "source": [
    "import numpy as np\n",
    "import pandas as pd\n",
    "import matplotlib.pyplot as plt\n",
    "import sklearn\n",
    "\n",
    "data_url1 = 'https://gist.githubusercontent.com/netj/8836201/raw/6f9306ad21398ea43cba4f7d537619d0e07d5ae3/iris.csv'\n",
    "raw = pd.read_csv(data_url1)\n",
    "data1 = raw.iloc[:, :-1]\n",
    "target1 = raw['variety']\n",
    "print(\"Dataset Sizes : \", data1.shape, target1.shape)\n",
    "\n",
    "#data_url2 = \"https://raw.githubusercontent.com/AnnaShestova/salary-years-simple-linear-regression/master/Salary_Data.csv\"\n",
    "#raw_df = pd.read_csv(data_url2)\n",
    "#data2 = np.hstack([raw_df.values[::2, :], raw_df.values[1::2, :2]])\n",
    "#target2 = raw_df.values[1::2, :2]\n",
    "#print(\"Dataset Sizes : \", data2.shape, target2.shape)\n",
    "\n",
    "from sklearn.model_selection import train_test_split\n",
    "\n",
    "X_train, X_test, Y_train, Y_test = train_test_split(data1, target1, train_size=0.80, test_size=0.20, random_state=123)\n",
    "print('Train/Test Sizes : ', X_train.shape, X_test.shape, Y_train.shape, Y_test.shape)\n",
    "\n",
    "from sklearn.neural_network import MLPClassifier\n",
    "\n",
    "mlp_classifier = MLPClassifier(random_state=123)\n",
    "mlp_classifier.fit(X_train, Y_train)\n",
    "\n",
    "Y_preds = mlp_classifier.predict(X_test)\n",
    "\n",
    "print(Y_preds[:15])\n",
    "print(Y_test[:15])\n",
    "\n",
    "print('Test Accuracy : %.3f'%mlp_classifier.score(X_test, Y_test))\n",
    "print('Training Accuracy : %.3f'%mlp_classifier.score(X_train, Y_train))\n",
    "\n",
    "\n",
    "print('Loss : ', mlp_classifier.loss_)\n",
    "print(\"Number of Coefs : \", len(mlp_classifier.coefs_))\n",
    "print(len(mlp_classifier.intercepts_))\n",
    "print(mlp_classifier.n_iter_)\n",
    "print(mlp_classifier.out_activation_)"
   ]
  },
  {
   "cell_type": "code",
   "execution_count": 21,
   "id": "46626584",
   "metadata": {},
   "outputs": [
    {
     "data": {
      "image/png": "[encoded data removed]",
      "text/plain": [
       "<Figure size 432x432 with 2 Axes>"
      ]
     },
     "metadata": {
      "needs_background": "light"
     },
     "output_type": "display_data"
    }
   ],
   "source": [
    "from sklearn.metrics import confusion_matrix\n",
    "\n",
    "def plot_configuration_matrix(Y_test, Y_preds):\n",
    "    conf_mat = confusion_matrix(Y_test, Y_preds)\n",
    "    fig = plt.figure(figsize=(6, 6))\n",
    "    plt.matshow(conf_mat, cmap=plt.cm.Blues, fignum=1)\n",
    "    plt.yticks(range(3), range(3))\n",
    "    plt.xticks(range(3), range(3))\n",
    "    plt.colorbar()\n",
    "    for i in range(3):\n",
    "        for j in range(3):\n",
    "            plt.text(i - 0.2, j + 0.1, str(conf_mat[j, i]), color='tab:red')\n",
    "plot_configuration_matrix(Y_test, mlp_classifier.predict(X_test))"
   ]
  },
  {
   "cell_type": "code",
   "execution_count": 23,
   "id": "5865cf8f",
   "metadata": {},
   "outputs": [
    {
     "name": "stdout",
     "output_type": "stream",
     "text": [
      "Dataset Sizes :  (30, 1) (30,)\n",
      "Train/Test Sizes :  (24, 1) (6, 1) (24,) (6,)\n",
      "[122391.  55794.  55794.  56642.  56642.  56642.]\n",
      "25    105582.0\n",
      "12     56957.0\n",
      "13     57081.0\n",
      "6      60150.0\n",
      "7      54445.0\n",
      "8      64445.0\n",
      "Name: Salary, dtype: float64\n",
      "Test Accuracy : 0.000\n",
      "Training Accuracy : 0.208\n",
      "Loss :  2.4601504768923723\n",
      "Number of Coefs :  2\n",
      "2\n",
      "200\n",
      "softmax\n"
     ]
    },
    {
     "name": "stderr",
     "output_type": "stream",
     "text": [
      "C:\\Users\\MI\\anaconda3\\lib\\site-packages\\sklearn\\neural_network\\_multilayer_perceptron.py:692: ConvergenceWarning: Stochastic Optimizer: Maximum iterations (200) reached and the optimization hasn't converged yet.\n",
      "  warnings.warn(\n"
     ]
    }
   ],
   "source": [
    "import numpy as np\n",
    "import pandas as pd\n",
    "import matplotlib.pyplot as plt\n",
    "import sklearn\n",
    "\n",
    "data_url2 = \"https://raw.githubusercontent.com/AnnaShestova/salary-years-simple-linear-regression/master/Salary_Data.csv\"\n",
    "raw_df = pd.read_csv(data_url2)\n",
    "data2 = raw_df.iloc[:, :-1]\n",
    "target2 = raw_df['Salary']\n",
    "print(\"Dataset Sizes : \", data2.shape, target2.shape)\n",
    "\n",
    "from sklearn.model_selection import train_test_split\n",
    "\n",
    "X_train, X_test, Y_train, Y_test = train_test_split(data2, target2, train_size=0.80, test_size=0.20, random_state=43)\n",
    "print('Train/Test Sizes : ', X_train.shape, X_test.shape, Y_train.shape, Y_test.shape)\n",
    "\n",
    "from sklearn.neural_network import MLPClassifier\n",
    "\n",
    "mlp_classifier = MLPClassifier(random_state=123)\n",
    "mlp_classifier.fit(X_train, Y_train)\n",
    "\n",
    "Y_preds = mlp_classifier.predict(X_test)\n",
    "\n",
    "print(Y_preds[:15])\n",
    "print(Y_test[:15])\n",
    "\n",
    "print('Test Accuracy : %.3f'%mlp_classifier.score(X_test, Y_test))\n",
    "print('Training Accuracy : %.3f'%mlp_classifier.score(X_train, Y_train))\n",
    "\n",
    "from sklearn.metrics import confusion_matrix\n",
    "\n",
    "\n",
    "print('Loss : ', mlp_classifier.loss_)\n",
    "print(\"Number of Coefs : \", len(mlp_classifier.coefs_))\n",
    "print(len(mlp_classifier.intercepts_))\n",
    "print(mlp_classifier.n_iter_)\n",
    "print(mlp_classifier.out_activation_)"
   ]
  },
  {
   "cell_type": "code",
   "execution_count": null,
   "id": "ed413ce7",
   "metadata": {},
   "outputs": [],
   "source": []
  }
 ],
 "metadata": {
  "kernelspec": {
   "display_name": "Python 3 (ipykernel)",
   "language": "python",
   "name": "python3"
  },
  "language_info": {
   "codemirror_mode": {
    "name": "ipython",
    "version": 3
   },
   "file_extension": ".py",
   "mimetype": "text/x-python",
   "name": "python",
   "nbconvert_exporter": "python",
   "pygments_lexer": "ipython3",
   "version": "3.11.0"
  }
 },
 "nbformat": 4,
 "nbformat_minor": 5
}
